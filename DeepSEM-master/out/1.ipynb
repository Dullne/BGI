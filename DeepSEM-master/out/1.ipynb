{
 "cells": [
  {
   "cell_type": "code",
   "execution_count": 28,
   "metadata": {},
   "outputs": [
    {
     "data": {
      "text/html": [
       "<div>\n",
       "<style scoped>\n",
       "    .dataframe tbody tr th:only-of-type {\n",
       "        vertical-align: middle;\n",
       "    }\n",
       "\n",
       "    .dataframe tbody tr th {\n",
       "        vertical-align: top;\n",
       "    }\n",
       "\n",
       "    .dataframe thead th {\n",
       "        text-align: right;\n",
       "    }\n",
       "</style>\n",
       "<table border=\"1\" class=\"dataframe\">\n",
       "  <thead>\n",
       "    <tr style=\"text-align: right;\">\n",
       "      <th></th>\n",
       "      <th>TF</th>\n",
       "      <th>Target</th>\n",
       "      <th>EdgeWeight</th>\n",
       "    </tr>\n",
       "  </thead>\n",
       "  <tbody>\n",
       "    <tr>\n",
       "      <th>0</th>\n",
       "      <td>FOXP1</td>\n",
       "      <td>UBTF</td>\n",
       "      <td>0.002243</td>\n",
       "    </tr>\n",
       "    <tr>\n",
       "      <th>1</th>\n",
       "      <td>KLF5</td>\n",
       "      <td>MCM4</td>\n",
       "      <td>0.002218</td>\n",
       "    </tr>\n",
       "    <tr>\n",
       "      <th>2</th>\n",
       "      <td>FOXP1</td>\n",
       "      <td>CCNB2</td>\n",
       "      <td>0.002188</td>\n",
       "    </tr>\n",
       "    <tr>\n",
       "      <th>3</th>\n",
       "      <td>FOXP1</td>\n",
       "      <td>SLC39A8</td>\n",
       "      <td>0.002176</td>\n",
       "    </tr>\n",
       "    <tr>\n",
       "      <th>4</th>\n",
       "      <td>SOX2</td>\n",
       "      <td>MYOF</td>\n",
       "      <td>0.002169</td>\n",
       "    </tr>\n",
       "    <tr>\n",
       "      <th>...</th>\n",
       "      <td>...</td>\n",
       "      <td>...</td>\n",
       "      <td>...</td>\n",
       "    </tr>\n",
       "    <tr>\n",
       "      <th>30901</th>\n",
       "      <td>CTNNB1</td>\n",
       "      <td>EPCAM</td>\n",
       "      <td>0.001317</td>\n",
       "    </tr>\n",
       "    <tr>\n",
       "      <th>30902</th>\n",
       "      <td>ZFP42</td>\n",
       "      <td>RORB</td>\n",
       "      <td>0.001312</td>\n",
       "    </tr>\n",
       "    <tr>\n",
       "      <th>30903</th>\n",
       "      <td>CTNNB1</td>\n",
       "      <td>PROM1</td>\n",
       "      <td>0.001308</td>\n",
       "    </tr>\n",
       "    <tr>\n",
       "      <th>30904</th>\n",
       "      <td>NANOG</td>\n",
       "      <td>TPD52</td>\n",
       "      <td>0.001300</td>\n",
       "    </tr>\n",
       "    <tr>\n",
       "      <th>30905</th>\n",
       "      <td>OTX2</td>\n",
       "      <td>TADA1</td>\n",
       "      <td>0.001295</td>\n",
       "    </tr>\n",
       "  </tbody>\n",
       "</table>\n",
       "<p>30906 rows × 3 columns</p>\n",
       "</div>"
      ],
      "text/plain": [
       "           TF   Target  EdgeWeight\n",
       "0       FOXP1     UBTF    0.002243\n",
       "1        KLF5     MCM4    0.002218\n",
       "2       FOXP1    CCNB2    0.002188\n",
       "3       FOXP1  SLC39A8    0.002176\n",
       "4        SOX2     MYOF    0.002169\n",
       "...       ...      ...         ...\n",
       "30901  CTNNB1    EPCAM    0.001317\n",
       "30902   ZFP42     RORB    0.001312\n",
       "30903  CTNNB1    PROM1    0.001308\n",
       "30904   NANOG    TPD52    0.001300\n",
       "30905    OTX2    TADA1    0.001295\n",
       "\n",
       "[30906 rows x 3 columns]"
      ]
     },
     "execution_count": 28,
     "metadata": {},
     "output_type": "execute_result"
    }
   ],
   "source": [
    "import pandas as pd\n",
    "import numpy as np\n",
    "import scanpy as sc\n",
    "predicted=pd.read_csv(\"GRN_inference_result.tsv\",delimiter='\\t')\n",
    "Ground_Truth = pd.read_csv('../demo_data/GRN_inference/input/500_STRING_HESC/label.csv', header=0)\n",
    "data=pd.read_csv('../demo_data/GRN_inference/input/500_STRING_HESC/data.csv',header=0,index_col=0)\n",
    "TF = set(Ground_Truth['Gene1'])    #343\n",
    "All_gene = set(Ground_Truth['Gene1']) | set(Ground_Truth['Gene2']) #517\n",
    "data\n",
    "Ground_Truth"
   ]
  },
  {
   "cell_type": "code",
   "execution_count": 53,
   "metadata": {},
   "outputs": [
    {
     "data": {
      "text/plain": [
       "0        0.002243\n",
       "1        0.002218\n",
       "2        0.002188\n",
       "3        0.002176\n",
       "4        0.002169\n",
       "           ...   \n",
       "30901    0.001317\n",
       "30902    0.001312\n",
       "30903    0.001308\n",
       "30904    0.001300\n",
       "30905    0.001295\n",
       "Name: EdgeWeight, Length: 30906, dtype: float64"
      ]
     },
     "execution_count": 53,
     "metadata": {},
     "output_type": "execute_result"
    }
   ],
   "source": [
    "predicted.iloc[:,2][predicted.iloc[:,2]!=0]"
   ]
  },
  {
   "cell_type": "code",
   "execution_count": 72,
   "metadata": {},
   "outputs": [],
   "source": [
    "truth_df = pd.DataFrame(np.zeros([910, 910]), index=data.columns, columns=data.columns)\n",
    "for i in range(predicted.shape[0]):\n",
    "    #  print(i)\n",
    "     truth_df.loc[predicted.iloc[i,0],predicted.iloc[i,1]]=predicted.iloc[i,2]\n",
    "# truth_df.to_csv('predicted_net.csv')\n",
    "truth_df.iloc[12,:][truth_df.iloc[12,:]!=0]#[truth_df[0]!=0]\n",
    "\n",
    "# 将DataFrame转换为一个Series，其中非零元素保持其位置索引\n",
    "non_zero_elements = truth_df.stack()\n",
    "# 过滤出非零元素\n",
    "non_zero_elements = non_zero_elements[non_zero_elements != 0]\n",
    "predic=non_zero_elements.unstack()\n",
    "predic.to_csv('pre_nonzero.csv')\n",
    "# # truth_df.loc['GATA2']\n",
    "# truth_df"
   ]
  },
  {
   "cell_type": "code",
   "execution_count": null,
   "metadata": {},
   "outputs": [],
   "source": []
  }
 ],
 "metadata": {
  "kernelspec": {
   "display_name": "DeepSEM",
   "language": "python",
   "name": "python3"
  },
  "language_info": {
   "codemirror_mode": {
    "name": "ipython",
    "version": 3
   },
   "file_extension": ".py",
   "mimetype": "text/x-python",
   "name": "python",
   "nbconvert_exporter": "python",
   "pygments_lexer": "ipython3",
   "version": "3.7.0"
  }
 },
 "nbformat": 4,
 "nbformat_minor": 2
}
